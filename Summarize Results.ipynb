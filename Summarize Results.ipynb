{
 "cells": [
  {
   "cell_type": "code",
   "execution_count": null,
   "id": "87389e18-2724-4d15-8bc9-83709e13edc1",
   "metadata": {},
   "outputs": [],
   "source": [
    "import datasets\n",
    "import pandas as pd\n",
    "\n",
    "n_list = [50, 100, 150, 200, 250] # number of permutations/trials\n",
    "m_list = [1, 2, 3, 4, 5] # number of punctuations injected\n",
    "k_list = [1, 2, 3, 4, 5] # number of images generated per permutation\n",
    "t_list = [10, 20, 30, 40, 50] # number of inference steps\n",
    "sampler_list = [\"NSGAIISampler\", \"RandomSampler\", \"TPESampler\"] # sampler to get approximate best permutation of perturbations\n",
    "\n",
    "n = n_list[4]\n",
    "m = m_list[2]\n",
    "k = k_list[2]\n",
    "t = t_list[4]\n",
    "sampler = sampler_list[0]"
   ]
  },
  {
   "cell_type": "code",
   "execution_count": null,
   "id": "284d3891-061f-4356-b10f-8a76ce1ec42b",
   "metadata": {},
   "outputs": [],
   "source": [
    "metrics = {metric: [] for metric in [\"DSG\", \"VQAScore\", \"CLIPScore\", \"LIQE\", \"MUSIQ\"]}\n",
    "for n in n_list:\n",
    "    eval_dir = f\"eval/cifar/untargeted_attack/punctuation/concurrent_injection/n={n}_m={m}_k={k}_t={t}_{sampler}/\"\n",
    "\n",
    "    dsg_eval_dataset = datasets.load_dataset(\n",
    "        \"json\",\n",
    "        data_files = {\"eval\": eval_dir + \"dsg.json\"},\n",
    "        split = \"eval\",\n",
    "        field = \"data\"\n",
    "    )\n",
    "    metrics[\"DSG\"].append(sum(dsg_eval_dataset[\"Score\"]) / len(dsg_eval_dataset))\n",
    "\n",
    "    vqascore_eval_dataset = datasets.load_dataset(\n",
    "        \"json\",\n",
    "        data_files = {\"eval\": eval_dir + \"vqascore.json\"},\n",
    "        split = \"eval\",\n",
    "        field = \"data\"\n",
    "    )\n",
    "    metrics[\"VQAScore\"].append(sum(vqascore_eval_dataset[\"Score\"]) / len(vqascore_eval_dataset))\n",
    "\n",
    "    clip_eval_dataset = datasets.load_dataset(\n",
    "        \"json\",\n",
    "        data_files = {\"eval\": eval_dir + \"clipscore.json\"},\n",
    "        split = \"eval\",\n",
    "        field = \"data\"\n",
    "    )\n",
    "    metrics[\"CLIPScore\"].append(sum(clip_eval_dataset[\"Score\"]) / len(clip_eval_dataset))\n",
    "\n",
    "    liqe_eval_dataset = datasets.load_dataset(\n",
    "        \"json\",\n",
    "        data_files = {\"eval\": eval_dir + \"liqe.json\"},\n",
    "        split = \"eval\",\n",
    "        field = \"data\"\n",
    "    )\n",
    "    metrics[\"LIQE\"].append(sum(liqe_eval_dataset[\"Score\"]) / len(liqe_eval_dataset))\n",
    "\n",
    "    musiq_eval_dataset = datasets.load_dataset(\n",
    "        \"json\",\n",
    "        data_files = {\"eval\": eval_dir + \"musiq.json\"},\n",
    "        split = \"eval\",\n",
    "        field = \"data\"\n",
    "    )\n",
    "    metrics[\"MUSIQ\"].append(sum(musiq_eval_dataset[\"Score\"]) / len(musiq_eval_dataset))\n",
    "    \n",
    "pd.DataFrame(metrics, index = [f\"n = {n}\" for n in n_list])"
   ]
  }
 ],
 "metadata": {
  "kernelspec": {
   "display_name": "Python 3 (ipykernel)",
   "language": "python",
   "name": "python3"
  },
  "language_info": {
   "codemirror_mode": {
    "name": "ipython",
    "version": 3
   },
   "file_extension": ".py",
   "mimetype": "text/x-python",
   "name": "python",
   "nbconvert_exporter": "python",
   "pygments_lexer": "ipython3",
   "version": "3.8.5"
  }
 },
 "nbformat": 4,
 "nbformat_minor": 5
}
